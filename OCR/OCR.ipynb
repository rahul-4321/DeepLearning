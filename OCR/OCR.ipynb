{
 "cells": [
  {
   "cell_type": "markdown",
   "id": "2246631b-d062-4fe4-9c4d-e4bfb55b20d4",
   "metadata": {},
   "source": [
    "what is sequential model and what are its alternatives and their uses?\n",
    "ans:\n",
    "### Sequential Model\n",
    "\n",
    "The Sequential model in Keras is a linear stack of layers. It is ideal for creating simple neural networks where layers are arranged in a sequence, one after the other. Each layer has exactly one input tensor and one output tensor.\n",
    "\n",
    "**Example:**\n",
    "\n",
    "```python\n",
    "from tensorflow.keras.models import Sequential\n",
    "from tensorflow.keras.layers import Dense\n",
    "\n",
    "model = Sequential([\n",
    "    Dense(32, activation='relu', input_shape=(784,)),\n",
    "    Dense(64, activation='relu'),\n",
    "    Dense(10, activation='softmax')\n",
    "])\n",
    "```\n",
    "\n",
    "**Use Cases:**\n",
    "\n",
    "- Suitable for simple, feed-forward neural networks.\n",
    "- Commonly used for straightforward tasks such as image classification, regression, and basic NLP tasks where the data flows in one direction (from input to output).\n",
    "\n",
    "### Alternatives to Sequential Model\n",
    "\n",
    "1. **Functional API**\n",
    "2. **Model Subclassing**\n",
    "\n",
    "#### 1. Functional API\n",
    "\n",
    "The Functional API is more flexible than the Sequential model. It allows for the creation of complex models, such as multi-input, multi-output models, shared layers, and models with non-linear topology (e.g., residual connections).\n",
    "\n",
    "**Example:**\n",
    "\n",
    "```python\n",
    "from tensorflow.keras.models import Model\n",
    "from tensorflow.keras.layers import Input, Dense\n",
    "\n",
    "inputs = Input(shape=(784,))\n",
    "x = Dense(32, activation='relu')(inputs)\n",
    "x = Dense(64, activation='relu')(x)\n",
    "outputs = Dense(10, activation='softmax')(x)\n",
    "\n",
    "model = Model(inputs=inputs, outputs=outputs)\n",
    "```\n",
    "\n",
    "**Use Cases:**\n",
    "\n",
    "- Useful for models with multiple inputs and outputs.\n",
    "- Enables the creation of complex architectures like Siamese networks, residual networks (ResNet), and attention mechanisms.\n",
    "- Allows the reuse of layers by sharing them across different inputs.\n",
    "\n",
    "#### 2. Model Subclassing\n",
    "\n",
    "Model subclassing provides full control over the model architecture by allowing the creation of custom models by subclassing the `tf.keras.Model` class. It is the most flexible way to create models but requires more code and a deeper understanding of the Keras framework.\n",
    "\n",
    "**Example:**\n",
    "\n",
    "```python\n",
    "from tensorflow.keras.models import Model\n",
    "from tensorflow.keras.layers import Dense\n",
    "\n",
    "class MyModel(Model):\n",
    "    def __init__(self):\n",
    "        super(MyModel, self).__init__()\n",
    "        self.dense1 = Dense(32, activation='relu')\n",
    "        self.dense2 = Dense(64, activation='relu')\n",
    "        self.dense3 = Dense(10, activation='softmax')\n",
    "\n",
    "    def call(self, inputs):\n",
    "        x = self.dense1(inputs)\n",
    "        x = self.dense2(x)\n",
    "        return self.dense3(x)\n",
    "\n",
    "model = MyModel()\n",
    "```\n",
    "\n",
    "**Use Cases:**\n",
    "\n",
    "- Necessary for models with dynamic architectures that can't be defined using the Sequential model or Functional API.\n",
    "- Useful for implementing custom training loops and complex computations within the model.\n",
    "- Ideal for research and development when experimenting with novel model architectures.\n",
    "\n",
    "### Summary\n",
    "\n",
    "- **Sequential Model**: Best for simple, feed-forward neural networks where layers are added sequentially.\n",
    "- **Functional API**: Offers flexibility to build complex models with multiple inputs and outputs, shared layers, and non-linear topologies.\n",
    "- **Model Subclassing**: Provides the highest level of flexibility, allowing for custom and dynamic model architectures and is ideal for advanced research and development tasks."
   ]
  },
  {
   "cell_type": "markdown",
   "id": "12a87901-b46d-44c4-adf6-bc585b1d062a",
   "metadata": {},
   "source": [
    "which is better for OCR and why not others?\n",
    "\n",
    "When considering Optical Character Recognition (OCR) tasks, the choice between Sequential models, the Functional API, and Model Subclassing in Keras depends on the complexity and requirements of the OCR system being developed. Here's an analysis of which approach is generally better suited for OCR and why:\n",
    "\n",
    "### Functional API\n",
    "\n",
    "**Why the Functional API is often the best choice for OCR:**\n",
    "\n",
    "1. **Flexibility in Architecture:**\n",
    "   - OCR systems often require complex architectures, such as Convolutional Neural Networks (CNNs) for feature extraction followed by Recurrent Neural Networks (RNNs) for sequence modeling. The Functional API allows for the design of such complex architectures easily.\n",
    "   - OCR tasks may also benefit from attention mechanisms, which can be more naturally implemented using the Functional API.\n",
    "\n",
    "2. **Multiple Inputs and Outputs:**\n",
    "   - OCR systems might need to handle multiple input sources (e.g., images and bounding box coordinates) or produce multiple outputs (e.g., character sequences and confidence scores). The Functional API supports such scenarios efficiently.\n",
    "   \n",
    "3. **Layer Sharing and Reuse:**\n",
    "   - Layers, such as feature extractors, can be shared across different parts of the network, which is straightforward with the Functional API. This can be crucial for models that process parts of an image separately but use shared weights.\n",
    "\n",
    "4. **Non-linear Topologies:**\n",
    "   - OCR models may require non-linear data flows, such as residual connections or skip connections, which are cumbersome to implement with the Sequential model but are straightforward with the Functional API.\n",
    "\n",
    "**Example:**\n",
    "```python\n",
    "from tensorflow.keras.models import Model\n",
    "from tensorflow.keras.layers import Input, Conv2D, MaxPooling2D, Flatten, Dense, LSTM\n",
    "\n",
    "inputs = Input(shape=(32, 32, 1))\n",
    "x = Conv2D(32, kernel_size=(3, 3), activation='relu')(inputs)\n",
    "x = MaxPooling2D(pool_size=(2, 2))(x)\n",
    "x = Flatten()(x)\n",
    "x = Dense(64, activation='relu')(x)\n",
    "x = Dense(128, activation='relu')(x)\n",
    "x = LSTM(128, return_sequences=True)(x)\n",
    "outputs = Dense(10, activation='softmax')(x)\n",
    "\n",
    "model = Model(inputs=inputs, outputs=outputs)\n",
    "```\n",
    "\n",
    "### Why Not the Others?\n",
    "\n",
    "#### Sequential Model\n",
    "\n",
    "- **Limitations:**\n",
    "  - **Linear Topology Only:** Sequential models are limited to a linear stack of layers, which is insufficient for the complex, multi-component nature of OCR systems that often require parallel or interconnected layers.\n",
    "  - **Single Input/Output:** They are not designed to handle multiple inputs and outputs gracefully, which is often needed in OCR tasks.\n",
    "\n",
    "- **Use Case:** \n",
    "  - Can be used for very simple OCR tasks where a straightforward convolutional and dense layer stack suffices, but this is rarely the case in modern OCR applications.\n",
    "\n",
    "#### Model Subclassing\n",
    "\n",
    "- **Complexity:**\n",
    "  - **Code Overhead:** While subclassing provides maximum flexibility, it requires more boilerplate code and a deeper understanding of the framework, which can be overkill for many OCR tasks.\n",
    "  - **Custom Training Loops:** Often necessitates custom training loops and more manual management of layers and operations, which can increase development time and complexity.\n",
    "\n",
    "- **Use Case:**\n",
    "  - Ideal for highly customized or experimental OCR models where standard layers and operations do not suffice. It is also useful when implementing novel research ideas that require dynamic changes during the forward pass.\n",
    "\n",
    "### Summary\n",
    "\n",
    "For most OCR tasks, the **Functional API** in Keras strikes the best balance between flexibility and ease of use. It allows for the construction of complex models needed for OCR, such as those incorporating CNNs, RNNs, and attention mechanisms, while maintaining a straightforward and intuitive code structure. The **Sequential Model** is too limited for the typical complexity of OCR systems, and **Model Subclassing**, while very flexible, often introduces unnecessary complexity for standard OCR tasks."
   ]
  },
  {
   "cell_type": "code",
   "execution_count": 1,
   "id": "28ecd941-b719-4a72-b9db-c0fe4d76f09d",
   "metadata": {},
   "outputs": [],
   "source": [
    "#import necessary modules\n",
    "import tensorflow as tf\n",
    "from tensorflow.keras.models import Model\n",
    "from tensorflow.keras.layers import Input, Conv2D, MaxPooling2D, Flatten, Dense, Dropout\n",
    "from tensorflow.keras.datasets import mnist\n",
    "from tensorflow.keras.utils import to_categorical\n",
    "import numpy as np\n"
   ]
  },
  {
   "cell_type": "code",
   "execution_count": 2,
   "id": "4ecd3f68-d3ce-4169-bb74-f88e95acb856",
   "metadata": {},
   "outputs": [],
   "source": [
    "# Load and process the data\n",
    "(x_train,y_train), (x_test, y_test)=mnist.load_data()\n"
   ]
  },
  {
   "cell_type": "code",
   "execution_count": 3,
   "id": "749171e5-3bbe-46d7-b322-224c8b936b8b",
   "metadata": {},
   "outputs": [
    {
     "name": "stdout",
     "output_type": "stream",
     "text": [
      "(28, 28)\n"
     ]
    },
    {
     "data": {
      "image/png": "[encoded data removed]",
      "text/plain": [
       "<Figure size 640x480 with 1 Axes>"
      ]
     },
     "metadata": {},
     "output_type": "display_data"
    }
   ],
   "source": [
    "print(x_train[0].shape)\n",
    "import matplotlib.pyplot as plt\n",
    "plt.imshow(x_train[0].squeeze(),cmap='gray')\n",
    "plt.title(f'Label: {y_train[0]}')\n",
    "#plt.axis('off')  # Turn off axis labels\n",
    "plt.show()"
   ]
  },
  {
   "cell_type": "code",
   "execution_count": 4,
   "id": "d5291b07-5e64-4a82-bb6d-5e2081ba4521",
   "metadata": {},
   "outputs": [],
   "source": [
    "#Normalize the images to the range of [0,1]\n",
    "x_train=x_train.astype('float32')/255.0\n",
    "x_test=x_test.astype('float32')/255.0"
   ]
  },
  {
   "cell_type": "code",
   "execution_count": 5,
   "id": "12706075-4665-4a3c-bd81-9d18df0ce1bf",
   "metadata": {},
   "outputs": [],
   "source": [
    "'''since the images in the MNIST are grayscale with the shape of 28X28, we need to reshape it to include the channel \n",
    "as the deep learing model uses the images of dimension (height, width, channel)'''\n",
    "x_train=np.expand_dims(x_train,axis=-1)\n",
    "x_test=np.expand_dims(x_test,axis=-1)"
   ]
  },
  {
   "cell_type": "code",
   "execution_count": 6,
   "id": "521786cb-7295-440a-831e-97253e78a68f",
   "metadata": {},
   "outputs": [],
   "source": [
    "#One-shot encode the labels\n",
    "y_train=to_categorical(y_train,10)\n",
    "y_test=to_categorical(y_test,10)"
   ]
  },
  {
   "cell_type": "markdown",
   "id": "b24e8aaf-07b9-471c-b3f0-b5b6d407fd90",
   "metadata": {},
   "source": [
    "step 3: Build the Model using Functional API"
   ]
  },
  {
   "cell_type": "code",
   "execution_count": 7,
   "id": "7062efc4-6c08-4f77-b895-f73411a88634",
   "metadata": {},
   "outputs": [],
   "source": [
    "#define the inputs\n",
    "inputs=Input(shape=(28,28,1))\n",
    "\n",
    "#First Convoluitonal block\n",
    "x=Conv2D(32,kernel_size=(3,3),activation='relu')(inputs)\n",
    "x=MaxPooling2D(pool_size=(2,2))(x)\n"
   ]
  },
  {
   "cell_type": "markdown",
   "id": "2ca1ecd3-2455-4f10-8421-59b6d2584362",
   "metadata": {},
   "source": [
    "In the code snippet you provided, the operations define the input layer and the first convolutional block of a Convolutional Neural Network (CNN) using the Keras Functional API. Let’s break down each part of the code:\n",
    "\n",
    "Code Explanation\n",
    "python\n",
    "Copy code\n",
    "from tensorflow.keras.layers import Input, Conv2D, MaxPooling2D\n",
    "\n",
    "# Define the inputs\n",
    "inputs = Input(shape=(28, 28, 1))\n",
    "\n",
    "# First Convolutional block\n",
    "x = Conv2D(32, kernel_size=(3, 3), activation='relu')(inputs)\n",
    "x = MaxPooling2D(pool_size=(2, 2))(x)\n",
    "Detailed Breakdown\n",
    "1. Define the Inputs\n",
    "python\n",
    "Copy code\n",
    "inputs = Input(shape=(28, 28, 1))\n",
    "Input(shape=(28, 28, 1)): This defines the input layer of the model.\n",
    "shape=(28, 28, 1): The shape parameter specifies the dimensions of the input data.\n",
    "28, 28: These dimensions correspond to the height and width of the MNIST images.\n",
    "1: This dimension corresponds to the single color channel, as MNIST images are grayscale.\n",
    "2. First Convolutional Block\n",
    "python\n",
    "Copy code\n",
    "x = Conv2D(32, kernel_size=(3, 3), activation='relu')(inputs)\n",
    "Conv2D(32, kernel_size=(3, 3), activation='relu'): This creates a convolutional layer.\n",
    "32: The number of filters (also known as kernels) to be used in this layer. Each filter will produce a separate output feature map.\n",
    "kernel_size=(3, 3): The dimensions of the filters (3x3 pixels). This means that each filter will look at a 3x3 patch of the input image.\n",
    "activation='relu': The ReLU (Rectified Linear Unit) activation function is applied to introduce non-linearity into the model.\n",
    "(inputs): This layer takes the inputs tensor as its input.\n",
    "python\n",
    "Copy code\n",
    "x = MaxPooling2D(pool_size=(2, 2))(x)\n",
    "MaxPooling2D(pool_size=(2, 2)): This creates a max-pooling layer.\n",
    "pool_size=(2, 2): The dimensions of the pooling window (2x2 pixels). This means that each 2x2 region in the feature map will be downsampled to a single value (the maximum value in that region).\n",
    "(x): This layer takes the output tensor x from the previous convolutional layer as its input.\n",
    "What These Layers Do\n",
    "Input Layer: Defines the shape and structure of the input data.\n",
    "Conv2D Layer:\n",
    "Applies 32 filters to the input image, where each filter convolves over the image to produce a set of feature maps.\n",
    "The 3x3 filters detect various features in the input image such as edges, textures, etc.\n",
    "The ReLU activation function introduces non-linearity, which allows the network to learn more complex patterns.\n",
    "MaxPooling2D Layer:\n",
    "Reduces the spatial dimensions (height and width) of the feature maps by taking the maximum value in each 2x2 window.\n",
    "This downsampling helps reduce the computational complexity and also makes the feature detection more robust to small translations in the input.\n",
    "Summary\n",
    "The provided code defines the input layer and the first convolutional block of a CNN. The input layer specifies that the input images are 28x28 pixels with a single channel. The convolutional layer applies 32 filters of size 3x3 to the input image and then applies the ReLU activation function. The max-pooling layer then reduces the spatial dimensions of the feature maps by taking the maximum value in each 2x2 window, which helps in reducing the complexity and preventing overfitting."
   ]
  },
  {
   "cell_type": "code",
   "execution_count": 8,
   "id": "26adef96-cf96-467f-9483-e03d8586cd8e",
   "metadata": {},
   "outputs": [],
   "source": [
    "#second convolutional block\n",
    "x=Conv2D(64,kernel_size=(3,3),activation='relu')(x)\n",
    "x=MaxPooling2D(pool_size=(2,2))(x)"
   ]
  },
  {
   "cell_type": "code",
   "execution_count": 9,
   "id": "7543288a-33b5-4ea5-bed5-458479fcbf8e",
   "metadata": {},
   "outputs": [],
   "source": [
    "#flatten the output and add the fully connected layers\n",
    "x=Flatten()(x)\n",
    "x=Dense(128,activation='relu')(x)\n",
    "x=Dropout(0.5)(x) #Droupout for regulation"
   ]
  },
  {
   "cell_type": "markdown",
   "id": "022eb239-d4b4-4d26-95b3-f76c39425da8",
   "metadata": {},
   "source": [
    "In the given code, the operations flatten the output from the convolutional layers and then add fully connected (dense) layers to the model. Let's break down each step:\n",
    "\n",
    "### Code Explanation\n",
    "\n",
    "```python\n",
    "from tensorflow.keras.layers import Flatten, Dense, Dropout\n",
    "\n",
    "# Flatten the output\n",
    "x = Flatten()(x)\n",
    "\n",
    "# Add a fully connected layer\n",
    "x = Dense(128, activation='relu')(x)\n",
    "\n",
    "# Add dropout for regularization\n",
    "x = Dropout(0.5)(x)\n",
    "```\n",
    "\n",
    "### Detailed Breakdown\n",
    "\n",
    "#### 1. Flatten the Output\n",
    "\n",
    "```python\n",
    "x = Flatten()(x)\n",
    "```\n",
    "\n",
    "- `Flatten()`: This layer converts the multi-dimensional output from the previous layer (usually the output from convolutional or pooling layers) into a 1D vector.\n",
    "- `(x)`: This takes the output tensor `x` from the previous max-pooling layer as its input.\n",
    "  \n",
    "For example, if the output shape from the previous layer is `(batch_size, 13, 13, 32)`, the `Flatten` layer will convert it to `(batch_size, 13 * 13 * 32)`, resulting in a 1D vector for each sample in the batch.\n",
    "\n",
    "#### 2. Add a Fully Connected Layer\n",
    "\n",
    "```python\n",
    "x = Dense(128, activation='relu')(x)\n",
    "```\n",
    "\n",
    "- `Dense(128, activation='relu')`: This creates a fully connected (dense) layer.\n",
    "  - `128`: The number of neurons (units) in this layer. This means that the output vector will have 128 dimensions.\n",
    "  - `activation='relu'`: The ReLU (Rectified Linear Unit) activation function is applied to each neuron in this layer, introducing non-linearity to the model.\n",
    "  - `(x)`: This layer takes the 1D vector `x` from the `Flatten` layer as its input.\n",
    "\n",
    "Fully connected layers are used to combine all the features learned by the convolutional layers and apply the final classification logic. Each neuron in this layer is connected to every neuron in the previous layer, hence the name \"fully connected.\"\n",
    "\n",
    "#### 3. Add Dropout for Regularization\n",
    "\n",
    "```python\n",
    "x = Dropout(0.5)(x)\n",
    "```\n",
    "\n",
    "- `Dropout(0.5)`: This creates a dropout layer.\n",
    "  - `0.5`: The dropout rate, meaning that 50% of the neurons will be randomly set to 0 during each training step. This is done to prevent overfitting.\n",
    "  - `(x)`: This layer takes the output tensor `x` from the previous dense layer as its input.\n",
    "\n",
    "Dropout is a regularization technique used to prevent overfitting by randomly \"dropping out\" (setting to zero) a fraction of neurons during training. This helps the model to generalize better by ensuring that the network does not become overly reliant on any particular neurons.\n",
    "\n",
    "### Summary\n",
    "\n",
    "The provided code performs the following steps:\n",
    "\n",
    "1. **Flatten Layer**: Converts the 3D tensor output from the convolutional or pooling layers into a 1D vector. This prepares the data for the fully connected layers.\n",
    "2. **Dense Layer**: Adds a fully connected layer with 128 neurons and ReLU activation. This layer processes the flattened vector and helps in combining the features learned by the convolutional layers.\n",
    "3. **Dropout Layer**: Adds a dropout layer with a dropout rate of 50%. This randomly sets half of the neurons to zero during training to prevent overfitting and improve the model's ability to generalize to new data.\n",
    "\n",
    "This structure is typically used in CNNs to combine feature extraction (via convolutional layers) with classification (via fully connected layers) while incorp\n",
    "\n",
    "\n",
    "why is dropout only 0.5?\n",
    "how to choose the value?\n",
    "\n",
    "The dropout rate of 0.5 is commonly used as a default value in many deep learning applications because it has been found to be effective in preventing overfitting while allowing the model to learn. However, the optimal dropout rate can vary depending on the specific problem, model architecture, and dataset.\n",
    "\n",
    "### Why 0.5 for Dropout?\n",
    "- **Empirical Success**: Research and practical experience have shown that a dropout rate of 0.5 often works well in a variety of scenarios. This means that 50% of the neurons are randomly set to zero during each training step, which helps to prevent the network from becoming too reliant on any particular neurons.\n",
    "- **Balance**: A dropout rate of 0.5 provides a good balance between retaining enough neurons to learn useful features and dropping enough neurons to prevent overfitting.\n",
    "\n",
    "### How to Choose the Dropout Rate?\n",
    "The choice of the dropout rate should be determined through experimentation and cross-validation. Here are some guidelines:\n",
    "\n",
    "1. **Start with Common Values**: \n",
    "   - For fully connected (dense) layers, starting with 0.5 is a good practice.\n",
    "   - For convolutional layers, smaller dropout rates such as 0.2 or 0.3 are often used because convolutional layers typically have fewer parameters compared to fully connected layers.\n",
    "\n",
    "2. **Experiment and Tune**:\n",
    "   - Use cross-validation or a validation set to test different dropout rates and evaluate their impact on the model’s performance.\n",
    "   - Typical values to try include 0.2, 0.3, 0.4, 0.5, and 0.6. Higher values might also be tested but often lead to underfitting.\n",
    "\n",
    "3. **Consider the Complexity of the Model and Dataset**:\n",
    "   - If the model is very large or the dataset is relatively small, a higher dropout rate might be necessary to prevent overfitting.\n",
    "   - Conversely, for smaller models or larger datasets, a lower dropout rate might be sufficient.\n",
    "\n",
    "### Example: Adjusting Dropout Rate\n",
    "\n",
    "Here's how you can adjust the dropout rate in the provided code:\n",
    "\n",
    "```python\n",
    "from tensorflow.keras.layers import Flatten, Dense, Dropout\n",
    "\n",
    "# Flatten the output\n",
    "x = Flatten()(x)\n",
    "\n",
    "# Add a fully connected layer\n",
    "x = Dense(128, activation='relu')(x)\n",
    "\n",
    "# Experiment with different dropout rates\n",
    "dropout_rate = 0.5  # Start with 0.5, but you can try other values such as 0.3 or 0.6\n",
    "x = Dropout(dropout_rate)(x)\n",
    "```\n",
    "\n",
    "### Experimentation Example\n",
    "\n",
    "You might create a loop or grid search to find the optimal dropout rate:\n",
    "\n",
    "```python\n",
    "from tensorflow.keras.models import Model\n",
    "from tensorflow.keras.layers import Input, Conv2D, MaxPooling2D, Flatten, Dense, Dropout\n",
    "from tensorflow.keras.datasets import mnist\n",
    "from tensorflow.keras.utils import to_categorical\n",
    "from tensorflow.keras.optimizers import Adam\n",
    "from sklearn.model_selection import train_test_split\n",
    "\n",
    "# Load and preprocess data\n",
    "(x_train, y_train), (x_test, y_test) = mnist.load_data()\n",
    "x_train = x_train.astype('float32') / 255.0\n",
    "x_test = x_test.astype('float32') / 255.0\n",
    "x_train = np.expand_dims(x_train, axis=-1)\n",
    "x_test = np.expand_dims(x_test, axis=-1)\n",
    "y_train = to_categorical(y_train, 10)\n",
    "y_test = to_categorical(y_test, 10)\n",
    "\n",
    "# Split into training and validation sets\n",
    "x_train, x_val, y_train, y_val = train_test_split(x_train, y_train, test_size=0.2, random_state=42)\n",
    "\n",
    "# Function to create the model with different dropout rates\n",
    "def create_model(dropout_rate):\n",
    "    inputs = Input(shape=(28, 28, 1))\n",
    "    x = Conv2D(32, kernel_size=(3, 3), activation='relu')(inputs)\n",
    "    x = MaxPooling2D(pool_size=(2, 2))(x)\n",
    "    x = Flatten()(x)\n",
    "    x = Dense(128, activation='relu')(x)\n",
    "    x = Dropout(dropout_rate)(x)\n",
    "    outputs = Dense(10, activation='softmax')(x)\n",
    "    model = Model(inputs, outputs)\n",
    "    model.compile(optimizer=Adam(), loss='categorical_crossentropy', metrics=['accuracy'])\n",
    "    return model\n",
    "\n",
    "# Experiment with different dropout rates\n",
    "dropout_rates = [0.2, 0.3, 0.4, 0.5, 0.6]\n",
    "results = {}\n",
    "for rate in dropout_rates:\n",
    "    model = create_model(rate)\n",
    "    history = model.fit(x_train, y_train, epochs=10, validation_data=(x_val, y_val), batch_size=128)\n",
    "    results[rate] = history.history\n",
    "\n",
    "# Display results\n",
    "for rate, history in results.items():\n",
    "    print(f\"Dropout rate: {rate}, Validation accuracy: {history['val_accuracy'][-1]}\")\n",
    "```\n",
    "\n",
    "### Summary\n",
    "\n",
    "- **Starting Point**: Use 0.5 for dense layers and slightly lower values for convolutional layers.\n",
    "- **Experimentation**: Test different rates using cross-validation to find the optimal value for your specific model and dataset.\n",
    "- **Balance**: Ensure you balance between preventing overfitting and maintaining enough capacity to learn from the data.orating regularization techniques to improve model performance."
   ]
  },
  {
   "cell_type": "code",
   "execution_count": 10,
   "id": "a97480c3-0843-46c4-98dd-93850f16d108",
   "metadata": {},
   "outputs": [],
   "source": [
    "#Output layer\n",
    "outputs=Dense(10,activation='softmax')(x)"
   ]
  },
  {
   "cell_type": "code",
   "execution_count": 11,
   "id": "0f1b77af-8eb6-404a-b5c2-ac43310e70bc",
   "metadata": {},
   "outputs": [],
   "source": [
    "#create the model\n",
    "model=Model(inputs=inputs,outputs=outputs)"
   ]
  },
  {
   "cell_type": "markdown",
   "id": "22aa9923-b7eb-4c6f-a243-5d6658b583d3",
   "metadata": {},
   "source": [
    "Step-4: Compile the Model"
   ]
  },
  {
   "cell_type": "code",
   "execution_count": 12,
   "id": "9ee7fee0-b253-4e20-96ea-ef54ed3961fe",
   "metadata": {},
   "outputs": [],
   "source": [
    "model.compile(optimizer='adam',loss='categorical_crossentropy',metrics=['accuracy'])"
   ]
  },
  {
   "cell_type": "markdown",
   "id": "b8d17d77-e5e5-42d6-9e9a-01871a3f1519",
   "metadata": {},
   "source": [
    "step-5: Train the model"
   ]
  },
  {
   "cell_type": "code",
   "execution_count": 13,
   "id": "bf1bdd12-f92a-4974-adeb-e3ceeb79e74b",
   "metadata": {},
   "outputs": [
    {
     "name": "stdout",
     "output_type": "stream",
     "text": [
      "Epoch 1/10\n",
      "375/375 [==============================] - 16s 42ms/step - loss: 0.3606 - accuracy: 0.8905 - val_loss: 0.0847 - val_accuracy: 0.9762\n",
      "Epoch 2/10\n",
      "375/375 [==============================] - 15s 41ms/step - loss: 0.1118 - accuracy: 0.9669 - val_loss: 0.0607 - val_accuracy: 0.9830\n",
      "Epoch 3/10\n",
      "375/375 [==============================] - 15s 41ms/step - loss: 0.0847 - accuracy: 0.9743 - val_loss: 0.0474 - val_accuracy: 0.9858\n",
      "Epoch 4/10\n",
      "375/375 [==============================] - 16s 42ms/step - loss: 0.0656 - accuracy: 0.9801 - val_loss: 0.0442 - val_accuracy: 0.9877\n",
      "Epoch 5/10\n",
      "375/375 [==============================] - 16s 42ms/step - loss: 0.0553 - accuracy: 0.9829 - val_loss: 0.0416 - val_accuracy: 0.9873\n",
      "Epoch 6/10\n",
      "375/375 [==============================] - 16s 42ms/step - loss: 0.0494 - accuracy: 0.9851 - val_loss: 0.0387 - val_accuracy: 0.9888\n",
      "Epoch 7/10\n",
      "375/375 [==============================] - 16s 43ms/step - loss: 0.0427 - accuracy: 0.9873 - val_loss: 0.0349 - val_accuracy: 0.9901\n",
      "Epoch 8/10\n",
      "375/375 [==============================] - 16s 43ms/step - loss: 0.0373 - accuracy: 0.9888 - val_loss: 0.0361 - val_accuracy: 0.9911\n",
      "Epoch 9/10\n",
      "375/375 [==============================] - 16s 44ms/step - loss: 0.0364 - accuracy: 0.9891 - val_loss: 0.0365 - val_accuracy: 0.9897\n",
      "Epoch 10/10\n",
      "375/375 [==============================] - 17s 44ms/step - loss: 0.0304 - accuracy: 0.9903 - val_loss: 0.0343 - val_accuracy: 0.9913\n"
     ]
    }
   ],
   "source": [
    "history=model.fit(x_train,y_train,epochs=10,batch_size=128,validation_split=0.2)"
   ]
  },
  {
   "cell_type": "markdown",
   "id": "86b6ab87-041d-4bbf-a686-ba272ca91001",
   "metadata": {},
   "source": [
    "step-6: Evaluate the Model"
   ]
  },
  {
   "cell_type": "code",
   "execution_count": 14,
   "id": "fb3d9069-8d65-4752-8da1-328801bd62b3",
   "metadata": {},
   "outputs": [
    {
     "name": "stdout",
     "output_type": "stream",
     "text": [
      "313/313 [==============================] - 1s 4ms/step - loss: 0.0251 - accuracy: 0.9922\n",
      "Test accuracy:0.9922000169754028\n"
     ]
    }
   ],
   "source": [
    "test_loss,test_accuracy=model.evaluate(x_test,y_test)\n",
    "print(f'Test accuracy:{test_accuracy}')"
   ]
  },
  {
   "cell_type": "code",
   "execution_count": 15,
   "id": "fa684462-bb00-4147-ad8d-d72605907b81",
   "metadata": {},
   "outputs": [],
   "source": [
    "\n",
    "# Optionally, you can save the model for future use\n",
    "#model.save('mnist_cnn_model.h5')\n"
   ]
  },
  {
   "cell_type": "markdown",
   "id": "544a5b30-7e64-4fab-9895-94da9f803f85",
   "metadata": {},
   "source": [
    "step-7: Testing the model with custom images"
   ]
  },
  {
   "cell_type": "code",
   "execution_count": 28,
   "id": "a05dd95a-724e-4ab9-b2b2-76e0bdb9e004",
   "metadata": {},
   "outputs": [],
   "source": [
    "def preprocess_image(image_path):\n",
    "    img=Image.open(image_path).convert('L')  #convert image to grayScale\n",
    "    #resize the image to 28 X 28\n",
    "    img=img.resize((28,28))\n",
    "    #convert the image to numpy array\n",
    "    img_array=np.array(img)\n",
    "    #normalize the image array\n",
    "    img_array=img_array.astype('float32')/255.0\n",
    "    #reshape the image to match the input shape (28,28,1)\n",
    "    img_array=np.expand_dims(img_array,axis=-1)\n",
    "    img_array=np.expand_dims(img_array,axis=0)#add batch dimension\n",
    "    return img_array"
   ]
  },
  {
   "cell_type": "code",
   "execution_count": 29,
   "id": "4e916ef1-5276-4e29-9cb3-3b67d6bc8ab0",
   "metadata": {},
   "outputs": [],
   "source": [
    "def predict_image(image_path):\n",
    "    #preprocess the image\n",
    "    img_array=preprocess_image(image_path)\n",
    "    #make prediction\n",
    "    prediction=model.predict(img_array)\n",
    "    predict_digit=np.argmax(prediction)\n",
    "    #plot the image and the prediction image\n",
    "    plt.imshow(img_array.squeeze(),cmap='gray')\n",
    "    plt.title(f'predicted Digit: {predict_digit}')\n",
    "    plt.axis('off')\n",
    "    plt.show()\n",
    "    return predict_digit"
   ]
  },
  {
   "cell_type": "code",
   "execution_count": 30,
   "id": "e6fd7f43-86c1-47f1-a0d4-2d06eaa8664d",
   "metadata": {},
   "outputs": [
    {
     "name": "stdout",
     "output_type": "stream",
     "text": [
      "1/1 [==============================] - 0s 27ms/step\n"
     ]
    },
    {
     "data": {
      "image/png": "[encoded data removed]",
      "text/plain": [
       "<Figure size 640x480 with 1 Axes>"
      ]
     },
     "metadata": {},
     "output_type": "display_data"
    },
    {
     "name": "stdout",
     "output_type": "stream",
     "text": [
      "Predicted digit: 0\n"
     ]
    }
   ],
   "source": [
    "# Example usage\n",
    "from PIL import Image\n",
    "image_path = 'G:\\\\Deep Learning\\\\OCR\\\\c2_0.jpg'\n",
    "predicted_digit = predict_image(image_path)\n",
    "print(f'Predicted digit: {predicted_digit}')"
   ]
  },
  {
   "cell_type": "code",
   "execution_count": 31,
   "id": "43509e16-f875-448f-90a1-8c7c338aaab7",
   "metadata": {},
   "outputs": [
    {
     "name": "stdout",
     "output_type": "stream",
     "text": [
      "1/1 [==============================] - 0s 26ms/step\n"
     ]
    },
    {
     "data": {
      "image/png": "[encoded data removed]",
      "text/plain": [
       "<Figure size 640x480 with 1 Axes>"
      ]
     },
     "metadata": {},
     "output_type": "display_data"
    },
    {
     "name": "stdout",
     "output_type": "stream",
     "text": [
      "Predicted digit: 1\n"
     ]
    }
   ],
   "source": [
    "from PIL import Image\n",
    "image_path = 'G:\\\\Deep Learning\\\\OCR\\\\c1_0.jpg'\n",
    "predicted_digit = predict_image(image_path)\n",
    "print(f'Predicted digit: {predicted_digit}')"
   ]
  },
  {
   "cell_type": "code",
   "execution_count": null,
   "id": "80ad19d5-cad3-4c7f-ad2a-69e356c3acfb",
   "metadata": {},
   "outputs": [],
   "source": []
  }
 ],
 "metadata": {
  "kernelspec": {
   "display_name": "Python 3 (ipykernel)",
   "language": "python",
   "name": "python3"
  },
  "language_info": {
   "codemirror_mode": {
    "name": "ipython",
    "version": 3
   },
   "file_extension": ".py",
   "mimetype": "text/x-python",
   "name": "python",
   "nbconvert_exporter": "python",
   "pygments_lexer": "ipython3",
   "version": "3.10.13"
  }
 },
 "nbformat": 4,
 "nbformat_minor": 5
}
